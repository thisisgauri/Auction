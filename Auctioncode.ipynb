{
  "nbformat": 4,
  "nbformat_minor": 0,
  "metadata": {
    "colab": {
      "provenance": [],
      "authorship_tag": "ABX9TyM23MKB47WxPm3U4d9WiCBT",
      "include_colab_link": true
    },
    "kernelspec": {
      "name": "python3",
      "display_name": "Python 3"
    },
    "language_info": {
      "name": "python"
    }
  },
  "cells": [
    {
      "cell_type": "markdown",
      "metadata": {
        "id": "view-in-github",
        "colab_type": "text"
      },
      "source": [
        "<a href=\"https://colab.research.google.com/github/thisisgauri/Auction/blob/main/Auctioncode.ipynb\" target=\"_parent\"><img src=\"https://colab.research.google.com/assets/colab-badge.svg\" alt=\"Open In Colab\"/></a>"
      ]
    },
    {
      "cell_type": "code",
      "source": [
        "number_of_bids = 0\n",
        "count = 0\n",
        "auction_fee = 0.0\n",
        "item_no = 0\n",
        "sold_items = 0\n",
        "less_than_reserve = 0\n",
        "zero_bids_items = 0\n",
        "min_items = 10\n",
        "while True:\n",
        "    try:\n",
        "        n = int(input(\"Enter the number of items in the auction: \"))\n",
        "        if n < min_items:\n",
        "            raise ValueError\n",
        "    except ValueError:\n",
        "        print (\"Number of items have to be at least 10!\")\n",
        "    else:\n",
        "        current_highest_bid = [0.0]*n\n",
        "        item_bids = [0]*n\n",
        "        item_description = []*n\n",
        "        reserve_price = []*n\n",
        "        item_numbers = []*n\n",
        "        buyer_no_Array = [0]*n\n",
        "        break\n",
        "\n",
        "#TASK 1\n",
        "\n",
        "for i in range(n):\n",
        "    item_no = item_no + 1\n",
        "    item_numbers.append(item_no)\n",
        "    print (\"ENTER DETAILS FOR ITEM NO.\", item_no)\n",
        "    description = input(\"Enter description for item no. \" + str(item_no))\n",
        "    item_description.append(description)\n",
        "    reserve = float(input(\"Enter reserve price for item no. \" + str(item_no)))\n",
        "    reserve_price.append(reserve)\n",
        "\n",
        "#TASK 2\n",
        "\n",
        "while count != \"y\":\n",
        "    for i in range(n):\n",
        "        print (\"Item number:\", item_numbers[i], \"Description:\", item_description[i], \"Reserve price:\", reserve_price[i], end = \" \")\n",
        "        print (\"Current highest bid:\", current_highest_bid[i], \"No. of bids:\", item_bids[i], end = \" \") \n",
        "        print (\"Buyer with highest bid:\", buyer_no_Array[i])   \n",
        "\n",
        "    choice = input(\"Do you want to bid for items in this auction? (y/n): \")\n",
        "\n",
        "    if (choice == \"y\"):\n",
        "\n",
        "        buyer_no = int(input(\"Enter your buyer ID: \"))\n",
        "\n",
        "        item_choice = int(input(\"Enter the item number for your choice of item: \"))\n",
        "        if item_choice in item_numbers:\n",
        "            index = item_numbers.index(item_choice)    \n",
        "            while True:\n",
        "                try:\n",
        "                    bid_price = float(input(\"Please enter your bid: \"))\n",
        "                    if (bid_price <= current_highest_bid[index]):\n",
        "                        raise ValueError\n",
        "                except ValueError:\n",
        "                    print (\"Bid should be higher than the current highest bid!\")\n",
        "                else:\n",
        "                    current_highest_bid[index] = bid_price\n",
        "                    number_of_bids = int(item_bids[index]) + 1\n",
        "                    item_bids[index] = number_of_bids\n",
        "                    print (\"Bids for\", item_description[index], \"are:\", item_bids[index])\n",
        "                    buyer_no_Array[index] = buyer_no\n",
        "                    break\n",
        "        else: \n",
        "            print (\"Invalid item code!\") \n",
        "    elif (choice == \"n\"):\n",
        "        count = input(\"END THE AUCTION? Enter 'n' to continue bidding or 'y' to end the auction: \")\n",
        "\n",
        "#TASK 3\n",
        "\n",
        "if (count == \"y\"):\n",
        "    sold = False\n",
        "    for i in range(len(current_highest_bid)):\n",
        "        if (current_highest_bid[i] >= reserve_price[i]):\n",
        "            sold = True\n",
        "            sold_items = sold_items + 1\n",
        "            auction_fee = auction_fee + (current_highest_bid[i] * 0.1)\n",
        "    print (\"The total auction company fee is: $\", auction_fee)\n",
        "\n",
        "    for i in range(len(current_highest_bid)):\n",
        "        if (current_highest_bid[i] < reserve_price[i]):\n",
        "            less_than_reserve = less_than_reserve + 1\n",
        "            print (\"Item code\", item_numbers[i], \"with final bid $\", current_highest_bid[i], \"has not reached the reserve price.\")\n",
        "\n",
        "    for i in range(len(current_highest_bid)):\n",
        "        if (current_highest_bid[i] == 0):\n",
        "            zero_bids_items = zero_bids_items + 1\n",
        "            print (\"Item code\", item_numbers[i], \"has not received any bids.\")\n",
        "\n",
        "    print (\"Number of items sold are:\", sold_items)\n",
        "    print (\"Number of items that did not meet the reserve price are:\" , less_than_reserve)\n",
        "    print (\"Number of items with no bids are:\", zero_bids_items)\n",
        "else:\n",
        "    print (\"Invalid input!\")"
      ],
      "metadata": {
        "colab": {
          "base_uri": "https://localhost:8080/"
        },
        "id": "PzZkSNnpQuxV",
        "outputId": "50ff9759-58bb-4d66-bc96-19633eccb530"
      },
      "execution_count": null,
      "outputs": [
        {
          "output_type": "stream",
          "name": "stdout",
          "text": [
            "Enter the number of items in the auction: 56\n",
            "ENTER DETAILS FOR ITEM NO. 1\n",
            "Enter description for item no. 145\n",
            "Enter reserve price for item no. 1456\n",
            "ENTER DETAILS FOR ITEM NO. 2\n",
            "Enter description for item no. 2564\n",
            "Enter reserve price for item no. 2567\n",
            "ENTER DETAILS FOR ITEM NO. 3\n",
            "Enter description for item no. 3677\n",
            "Enter reserve price for item no. 35677\n",
            "ENTER DETAILS FOR ITEM NO. 4\n"
          ]
        }
      ]
    }
  ]
}